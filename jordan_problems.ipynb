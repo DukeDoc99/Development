{
 "cells": [
  {
   "cell_type": "markdown",
   "id": "011b60e5",
   "metadata": {},
   "source": [
    "This notebook shows how a small issue with calculating the solution of a system of differential equations leads to difficulties with solving underdamped systems in sympy.  Fortunately, there is a simple solution!\n",
    "\n",
    "Ref: https://github.com/sympy/sympy/issues/22715 \n"
   ]
  },
  {
   "cell_type": "code",
   "execution_count": 1,
   "id": "504d6023",
   "metadata": {},
   "outputs": [],
   "source": [
    "import sympy as sym\n",
    "sym.init_printing()"
   ]
  },
  {
   "cell_type": "code",
   "execution_count": 2,
   "id": "f305eecb",
   "metadata": {},
   "outputs": [],
   "source": [
    "sym.var('A, b, c0, c1');\n",
    "sym.var('t', real=True);"
   ]
  },
  {
   "cell_type": "markdown",
   "id": "f9f957b8",
   "metadata": {},
   "source": [
    "Credit for the following process goes to Oscar Benjamin (https://github.com/oscarbenjamin) on the GitHub thread above.  All I did was typeset it.\n",
    "\n",
    "For certain types of differential systems, sympy calculates the solution to\n",
    "$$\\frac{dx}{dt}=Ax+b$$ using the Jordan normal form of A, specifically finding $P$ and $J_m$ such that:\n",
    "$$A=PJ_mP^{-1}$$\n",
    "where $J_m$ is the Jordan normal form of $A$.  \n",
    "\n",
    "Given this, if we call $J(t)=e^{J_mt}$:\n",
    "$$\n",
    "\\begin{align*}\n",
    "e^{At}&=P\\,J(t)\\,P^{-1}\\\\\n",
    "e^{-At}&=\\left(P\\,J(t)\\,P^{-1}\\right)^{-1}=P\\,J^{-1}(t)\\,P^{-1}\n",
    "\\end{align*}$$  \n",
    "\n",
    "With the terms above, the solution is found as follows:\n",
    "$$\n",
    "\\begin{align*}\n",
    "\\frac{dx}{dt}&=Ax+b\\\\\n",
    "e^{-At}\\frac{dx}{dt}&=e^{-At}Ax+e^{-At}b\\\\\n",
    "e^{-At}\\frac{dx}{dt}-e^{-At}Ax&=e^{-At}b\\\\\n",
    "\\frac{d}{dt}\\left(e^{-At}x\\right)&=e^{-At}b\\\\\n",
    "e^{-At}x&=\\int{e^{-At}b\\,dt}+c\\\\\n",
    "x&=e^{At}\\left(\\int{e^{-At}b\\,dt}+c\\right)\\\\\n",
    "x&=P\\,J(t)\\,P^{-1}\\left(\\int{P\\,J^{-1}(t)\\,P^{-1}b\\,dt}+c\\right)\\\\\n",
    "x&=P\\,J(t)\\left(\\int{J^{-1}(t)\\,P^{-1}b\\,dt}+c'\\right)\n",
    "\\end{align*}$$\n",
    "where in the last line, the unknown constant $c'=P^{-1}c$.\n",
    "\n",
    "The complication arises for some underdamped systems where sympy ends up with trigonometric functions in the denominator of $J(t)^{-1}$.  This can be resolved by noting that $J(t)^{-1}$ = $J(-t)$.  The following will show where the problem arises and how to solve it for a system of differential equations modeling an underdamped system with eigenvalues of $-1\\pm j2$:\n",
    "$$\n",
    "\\begin{align*}\n",
    "\\frac{dx_1(t)}{dt}&=-x_2(t)+10\\\\\n",
    "\\frac{dx_2(t)}{dt}&=5x_1(t)-2x_2(t)+3\\\\\n",
    "\\end{align*}\n",
    "$$\n",
    "\n",
    "The solutions should be in the form $e^{-t}\\left(\\alpha\\cos(2t)+\\beta\\sin(2t)\\right)+\\gamma$"
   ]
  },
  {
   "cell_type": "code",
   "execution_count": 3,
   "id": "efde1afb",
   "metadata": {},
   "outputs": [
    {
     "data": {
      "text/latex": [
       "$\\displaystyle \\left( \\left[\\begin{matrix}0 & -1\\\\5 & -2\\end{matrix}\\right], \\  \\left[\\begin{matrix}10\\\\3\\end{matrix}\\right], \\  \\left[\\begin{matrix}c_{0}\\\\c_{1}\\end{matrix}\\right]\\right)$"
      ],
      "text/plain": [
       "⎛⎡0  -1⎤  ⎡10⎤  ⎡c₀⎤⎞\n",
       "⎜⎢     ⎥, ⎢  ⎥, ⎢  ⎥⎟\n",
       "⎝⎣5  -2⎦  ⎣3 ⎦  ⎣c₁⎦⎠"
      ]
     },
     "execution_count": 3,
     "metadata": {},
     "output_type": "execute_result"
    }
   ],
   "source": [
    "A = sym.Matrix([[0, -1], [5, -2]])\n",
    "b = sym.Matrix([[10], [3]])\n",
    "cv = sym.Matrix([[c0], [c1]])\n",
    "A, b, cv"
   ]
  },
  {
   "cell_type": "code",
   "execution_count": 4,
   "id": "a114b94e",
   "metadata": {},
   "outputs": [
    {
     "data": {
      "text/latex": [
       "$\\displaystyle \\left( \\left[\\begin{matrix}\\frac{1}{5} & - \\frac{2}{5}\\\\1 & 0\\end{matrix}\\right], \\  \\left[\\begin{matrix}e^{- t} \\cos{\\left(2 t \\right)} & - e^{- t} \\sin{\\left(2 t \\right)}\\\\e^{- t} \\sin{\\left(2 t \\right)} & e^{- t} \\cos{\\left(2 t \\right)}\\end{matrix}\\right]\\right)$"
      ],
      "text/plain": [
       "⎛             ⎡ -t             -t         ⎤⎞\n",
       "⎜⎡1/5  -2/5⎤  ⎢ℯ  ⋅cos(2⋅t)  -ℯ  ⋅sin(2⋅t)⎥⎟\n",
       "⎜⎢         ⎥, ⎢                           ⎥⎟\n",
       "⎜⎣ 1    0  ⎦  ⎢ -t            -t          ⎥⎟\n",
       "⎝             ⎣ℯ  ⋅sin(2⋅t)  ℯ  ⋅cos(2⋅t) ⎦⎠"
      ]
     },
     "execution_count": 4,
     "metadata": {},
     "output_type": "execute_result"
    }
   ],
   "source": [
    "P, J = sym.solvers.ode.systems.matrix_exp_jordan_form(A, t)\n",
    "P, J"
   ]
  },
  {
   "cell_type": "markdown",
   "id": "fca25b1c",
   "metadata": {},
   "source": [
    "For some underdamped systems, $J^{-1}(t)$ has a problematic form (though it could be simplifed) "
   ]
  },
  {
   "cell_type": "code",
   "execution_count": 5,
   "id": "4cba2119",
   "metadata": {},
   "outputs": [
    {
     "data": {
      "text/latex": [
       "$\\displaystyle \\left[\\begin{matrix}- \\frac{e^{t} \\sin^{2}{\\left(2 t \\right)}}{\\cos{\\left(2 t \\right)}} + \\frac{e^{t}}{\\cos{\\left(2 t \\right)}} & e^{t} \\sin{\\left(2 t \\right)}\\\\- e^{t} \\sin{\\left(2 t \\right)} & e^{t} \\cos{\\left(2 t \\right)}\\end{matrix}\\right]$"
      ],
      "text/plain": [
       "⎡   t    2            t                ⎤\n",
       "⎢  ℯ ⋅sin (2⋅t)      ℯ       t         ⎥\n",
       "⎢- ──────────── + ────────  ℯ ⋅sin(2⋅t)⎥\n",
       "⎢    cos(2⋅t)     cos(2⋅t)             ⎥\n",
       "⎢                                      ⎥\n",
       "⎢        t                   t         ⎥\n",
       "⎣      -ℯ ⋅sin(2⋅t)         ℯ ⋅cos(2⋅t)⎦"
      ]
     },
     "execution_count": 5,
     "metadata": {},
     "output_type": "execute_result"
    }
   ],
   "source": [
    "JI1 = J.inv()\n",
    "JI1"
   ]
  },
  {
   "cell_type": "code",
   "execution_count": 6,
   "id": "00387ab8",
   "metadata": {},
   "outputs": [
    {
     "data": {
      "text/latex": [
       "$\\displaystyle \\left[\\begin{matrix}e^{t} \\cos{\\left(2 t \\right)} & e^{t} \\sin{\\left(2 t \\right)}\\\\- e^{t} \\sin{\\left(2 t \\right)} & e^{t} \\cos{\\left(2 t \\right)}\\end{matrix}\\right]$"
      ],
      "text/plain": [
       "⎡ t             t         ⎤\n",
       "⎢ℯ ⋅cos(2⋅t)   ℯ ⋅sin(2⋅t)⎥\n",
       "⎢                         ⎥\n",
       "⎢  t            t         ⎥\n",
       "⎣-ℯ ⋅sin(2⋅t)  ℯ ⋅cos(2⋅t)⎦"
      ]
     },
     "execution_count": 6,
     "metadata": {},
     "output_type": "execute_result"
    }
   ],
   "source": [
    "sym.simplify(JI1)"
   ]
  },
  {
   "cell_type": "markdown",
   "id": "6bf182a7",
   "metadata": {},
   "source": [
    "Conveniently, $J^{-1}(t)$ is actually $J(-t)$"
   ]
  },
  {
   "cell_type": "code",
   "execution_count": 7,
   "id": "44624ce1",
   "metadata": {},
   "outputs": [
    {
     "data": {
      "text/latex": [
       "$\\displaystyle \\left[\\begin{matrix}e^{t} \\cos{\\left(2 t \\right)} & e^{t} \\sin{\\left(2 t \\right)}\\\\- e^{t} \\sin{\\left(2 t \\right)} & e^{t} \\cos{\\left(2 t \\right)}\\end{matrix}\\right]$"
      ],
      "text/plain": [
       "⎡ t             t         ⎤\n",
       "⎢ℯ ⋅cos(2⋅t)   ℯ ⋅sin(2⋅t)⎥\n",
       "⎢                         ⎥\n",
       "⎢  t            t         ⎥\n",
       "⎣-ℯ ⋅sin(2⋅t)  ℯ ⋅cos(2⋅t)⎦"
      ]
     },
     "execution_count": 7,
     "metadata": {},
     "output_type": "execute_result"
    }
   ],
   "source": [
    "JI2 = J.subs(t, -t)\n",
    "JI2"
   ]
  },
  {
   "cell_type": "code",
   "execution_count": 8,
   "id": "6a743edb",
   "metadata": {},
   "outputs": [
    {
     "data": {
      "text/latex": [
       "$\\displaystyle \\left[\\begin{matrix}0 & 0\\\\0 & 0\\end{matrix}\\right]$"
      ],
      "text/plain": [
       "⎡0  0⎤\n",
       "⎢    ⎥\n",
       "⎣0  0⎦"
      ]
     },
     "execution_count": 8,
     "metadata": {},
     "output_type": "execute_result"
    }
   ],
   "source": [
    "sym.simplify(JI1-JI2)"
   ]
  },
  {
   "cell_type": "markdown",
   "id": "5e021947",
   "metadata": {},
   "source": [
    "This is where things went wrong - note the unevaluated integrals in the answer!  ALso note that the code below is not exactly what is in sympy but acurately represents what happens."
   ]
  },
  {
   "cell_type": "code",
   "execution_count": 9,
   "id": "66aa3758",
   "metadata": {},
   "outputs": [
    {
     "data": {
      "text/latex": [
       "$\\displaystyle \\left[\\begin{matrix}c_{0} - \\frac{3 e^{t} \\sin^{2}{\\left(2 t \\right)}}{\\cos{\\left(2 t \\right)}} - \\frac{47 e^{t} \\sin{\\left(2 t \\right)}}{2} + \\frac{3 e^{t}}{\\cos{\\left(2 t \\right)}}\\\\c_{1} - 3 e^{t} \\sin{\\left(2 t \\right)} - \\frac{47 e^{t} \\cos{\\left(2 t \\right)}}{2}\\end{matrix}\\right]$"
      ],
      "text/plain": [
       "⎡        t    2            t                 t  ⎤\n",
       "⎢     3⋅ℯ ⋅sin (2⋅t)   47⋅ℯ ⋅sin(2⋅t)     3⋅ℯ   ⎥\n",
       "⎢c₀ - ────────────── - ────────────── + ────────⎥\n",
       "⎢        cos(2⋅t)            2          cos(2⋅t)⎥\n",
       "⎢                                               ⎥\n",
       "⎢                               t               ⎥\n",
       "⎢              t            47⋅ℯ ⋅cos(2⋅t)      ⎥\n",
       "⎢      c₁ - 3⋅ℯ ⋅sin(2⋅t) - ──────────────      ⎥\n",
       "⎣                                 2             ⎦"
      ]
     },
     "execution_count": 9,
     "metadata": {},
     "output_type": "execute_result"
    }
   ],
   "source": [
    "JI1 * P.inv() * b + cv"
   ]
  },
  {
   "cell_type": "code",
   "execution_count": 10,
   "id": "5b8e11fb",
   "metadata": {},
   "outputs": [
    {
     "data": {
      "text/latex": [
       "$\\displaystyle \\left[\\begin{matrix}\\left(c_{1} - \\frac{\\int 47 e^{t} \\sin{\\left(2 t \\right)}\\, dt + \\int \\left(- \\frac{6 e^{t}}{\\cos{\\left(2 t \\right)}}\\right)\\, dt + \\int \\frac{6 e^{t} \\sin^{2}{\\left(2 t \\right)}}{\\cos{\\left(2 t \\right)}}\\, dt}{2}\\right) \\left(- \\frac{2 e^{- t} \\sin{\\left(2 t \\right)}}{5} + \\frac{e^{- t} \\cos{\\left(2 t \\right)}}{5}\\right) + \\left(- \\frac{e^{- t} \\sin{\\left(2 t \\right)}}{5} - \\frac{2 e^{- t} \\cos{\\left(2 t \\right)}}{5}\\right) \\left(- \\frac{5 c_{0}}{2} + \\frac{c_{1}}{2} - 10 e^{t} \\sin{\\left(2 t \\right)} - \\frac{7 e^{t} \\cos{\\left(2 t \\right)}}{2}\\right)\\\\\\left(c_{1} - \\frac{\\int 47 e^{t} \\sin{\\left(2 t \\right)}\\, dt + \\int \\left(- \\frac{6 e^{t}}{\\cos{\\left(2 t \\right)}}\\right)\\, dt + \\int \\frac{6 e^{t} \\sin^{2}{\\left(2 t \\right)}}{\\cos{\\left(2 t \\right)}}\\, dt}{2}\\right) e^{- t} \\cos{\\left(2 t \\right)} - \\left(- \\frac{5 c_{0}}{2} + \\frac{c_{1}}{2} - 10 e^{t} \\sin{\\left(2 t \\right)} - \\frac{7 e^{t} \\cos{\\left(2 t \\right)}}{2}\\right) e^{- t} \\sin{\\left(2 t \\right)}\\end{matrix}\\right]$"
      ],
      "text/plain": [
       "⎡⎛                           ⌠               ⌠                  ⎞             \n",
       "⎢⎜     ⌠                     ⎮      t        ⎮    t    2        ⎟             \n",
       "⎢⎜     ⎮     t               ⎮  -6⋅ℯ         ⎮ 6⋅ℯ ⋅sin (2⋅t)   ⎟             \n",
       "⎢⎜     ⎮ 47⋅ℯ ⋅sin(2⋅t) dt + ⎮ ──────── dt + ⎮ ────────────── dt⎟             \n",
       "⎢⎜     ⌡                     ⎮ cos(2⋅t)      ⎮    cos(2⋅t)      ⎟ ⎛     -t    \n",
       "⎢⎜                           ⌡               ⌡                  ⎟ ⎜  2⋅ℯ  ⋅sin\n",
       "⎢⎜c₁ - ─────────────────────────────────────────────────────────⎟⋅⎜- ─────────\n",
       "⎢⎝                                 2                            ⎠ ⎝        5  \n",
       "⎢                                                                             \n",
       "⎢                     ⎛                           ⌠               ⌠           \n",
       "⎢                     ⎜     ⌠                     ⎮      t        ⎮    t    2 \n",
       "⎢                     ⎜     ⎮     t               ⎮  -6⋅ℯ         ⎮ 6⋅ℯ ⋅sin (\n",
       "⎢                     ⎜     ⎮ 47⋅ℯ ⋅sin(2⋅t) dt + ⎮ ──────── dt + ⎮ ──────────\n",
       "⎢                     ⎜     ⌡                     ⎮ cos(2⋅t)      ⎮    cos(2⋅t\n",
       "⎢                     ⎜                           ⌡               ⌡           \n",
       "⎢                     ⎜c₁ - ──────────────────────────────────────────────────\n",
       "⎣                     ⎝                                 2                     \n",
       "\n",
       "                                                                              \n",
       "                                                                              \n",
       "                                                                              \n",
       "                                                                              \n",
       "         -t         ⎞   ⎛   -t               -t         ⎞ ⎛                   \n",
       "(2⋅t)   ℯ  ⋅cos(2⋅t)⎟   ⎜  ℯ  ⋅sin(2⋅t)   2⋅ℯ  ⋅cos(2⋅t)⎟ ⎜  5⋅c₀   c₁       t\n",
       "───── + ────────────⎟ + ⎜- ──────────── - ──────────────⎟⋅⎜- ──── + ── - 10⋅ℯ \n",
       "             5      ⎠   ⎝       5               5       ⎠ ⎝   2     2         \n",
       "                                                                              \n",
       "       ⎞                                                                      \n",
       "       ⎟                                                                      \n",
       "2⋅t)   ⎟                                                                      \n",
       "──── dt⎟                                                                      \n",
       ")      ⎟                ⎛                                  t         ⎞        \n",
       "       ⎟  -t            ⎜  5⋅c₀   c₁       t            7⋅ℯ ⋅cos(2⋅t)⎟  -t    \n",
       "───────⎟⋅ℯ  ⋅cos(2⋅t) - ⎜- ──── + ── - 10⋅ℯ ⋅sin(2⋅t) - ─────────────⎟⋅ℯ  ⋅sin\n",
       "       ⎠                ⎝   2     2                           2      ⎠        \n",
       "\n",
       "                          ⎤\n",
       "                          ⎥\n",
       "                          ⎥\n",
       "                          ⎥\n",
       "               t         ⎞⎥\n",
       "            7⋅ℯ ⋅cos(2⋅t)⎟⎥\n",
       "⋅sin(2⋅t) - ─────────────⎟⎥\n",
       "                  2      ⎠⎥\n",
       "                          ⎥\n",
       "                          ⎥\n",
       "                          ⎥\n",
       "                          ⎥\n",
       "                          ⎥\n",
       "                          ⎥\n",
       "                          ⎥\n",
       "(2⋅t)                     ⎥\n",
       "                          ⎦"
      ]
     },
     "execution_count": 10,
     "metadata": {},
     "output_type": "execute_result"
    }
   ],
   "source": [
    "ans1 = P * J * (sym.Integral(JI1 * P.inv() * b, t).doit() + P.inv() * cv)\n",
    "ans1"
   ]
  },
  {
   "cell_type": "markdown",
   "id": "3aaf0eb0",
   "metadata": {},
   "source": [
    "This is how it gets fixed using $J(-t)$ instead of $J^{-1}(t)$"
   ]
  },
  {
   "cell_type": "code",
   "execution_count": 11,
   "id": "9c08a755",
   "metadata": {},
   "outputs": [
    {
     "data": {
      "text/latex": [
       "$\\displaystyle \\left[\\begin{matrix}c_{0} - \\frac{47 e^{t} \\sin{\\left(2 t \\right)}}{2} + 3 e^{t} \\cos{\\left(2 t \\right)}\\\\c_{1} - 3 e^{t} \\sin{\\left(2 t \\right)} - \\frac{47 e^{t} \\cos{\\left(2 t \\right)}}{2}\\end{matrix}\\right]$"
      ],
      "text/plain": [
       "⎡         t                         ⎤\n",
       "⎢     47⋅ℯ ⋅sin(2⋅t)      t         ⎥\n",
       "⎢c₀ - ────────────── + 3⋅ℯ ⋅cos(2⋅t)⎥\n",
       "⎢           2                       ⎥\n",
       "⎢                                   ⎥\n",
       "⎢                         t         ⎥\n",
       "⎢        t            47⋅ℯ ⋅cos(2⋅t)⎥\n",
       "⎢c₁ - 3⋅ℯ ⋅sin(2⋅t) - ──────────────⎥\n",
       "⎣                           2       ⎦"
      ]
     },
     "execution_count": 11,
     "metadata": {},
     "output_type": "execute_result"
    }
   ],
   "source": [
    "JI2 * P.inv() * b + cv"
   ]
  },
  {
   "cell_type": "code",
   "execution_count": 12,
   "id": "c6eb75e9",
   "metadata": {},
   "outputs": [
    {
     "data": {
      "text/latex": [
       "$\\displaystyle \\left[\\begin{matrix}\\left(- \\frac{2 e^{- t} \\sin{\\left(2 t \\right)}}{5} + \\frac{e^{- t} \\cos{\\left(2 t \\right)}}{5}\\right) \\left(c_{1} - \\frac{7 e^{t} \\sin{\\left(2 t \\right)}}{2} + 10 e^{t} \\cos{\\left(2 t \\right)}\\right) + \\left(- \\frac{e^{- t} \\sin{\\left(2 t \\right)}}{5} - \\frac{2 e^{- t} \\cos{\\left(2 t \\right)}}{5}\\right) \\left(- \\frac{5 c_{0}}{2} + \\frac{c_{1}}{2} - 10 e^{t} \\sin{\\left(2 t \\right)} - \\frac{7 e^{t} \\cos{\\left(2 t \\right)}}{2}\\right)\\\\\\left(c_{1} - \\frac{7 e^{t} \\sin{\\left(2 t \\right)}}{2} + 10 e^{t} \\cos{\\left(2 t \\right)}\\right) e^{- t} \\cos{\\left(2 t \\right)} - \\left(- \\frac{5 c_{0}}{2} + \\frac{c_{1}}{2} - 10 e^{t} \\sin{\\left(2 t \\right)} - \\frac{7 e^{t} \\cos{\\left(2 t \\right)}}{2}\\right) e^{- t} \\sin{\\left(2 t \\right)}\\end{matrix}\\right]$"
      ],
      "text/plain": [
       "⎡⎛     -t             -t         ⎞ ⎛        t                          ⎞   ⎛  \n",
       "⎢⎜  2⋅ℯ  ⋅sin(2⋅t)   ℯ  ⋅cos(2⋅t)⎟ ⎜     7⋅ℯ ⋅sin(2⋅t)       t         ⎟   ⎜  \n",
       "⎢⎜- ────────────── + ────────────⎟⋅⎜c₁ - ───────────── + 10⋅ℯ ⋅cos(2⋅t)⎟ + ⎜- \n",
       "⎢⎝        5               5      ⎠ ⎝           2                       ⎠   ⎝  \n",
       "⎢                                                                             \n",
       "⎢                     ⎛        t                          ⎞                ⎛  \n",
       "⎢                     ⎜     7⋅ℯ ⋅sin(2⋅t)       t         ⎟  -t            ⎜  \n",
       "⎢                     ⎜c₁ - ───────────── + 10⋅ℯ ⋅cos(2⋅t)⎟⋅ℯ  ⋅cos(2⋅t) - ⎜- \n",
       "⎣                     ⎝           2                       ⎠                ⎝  \n",
       "\n",
       " -t               -t         ⎞ ⎛                                  t         ⎞⎤\n",
       "ℯ  ⋅sin(2⋅t)   2⋅ℯ  ⋅cos(2⋅t)⎟ ⎜  5⋅c₀   c₁       t            7⋅ℯ ⋅cos(2⋅t)⎟⎥\n",
       "──────────── - ──────────────⎟⋅⎜- ──── + ── - 10⋅ℯ ⋅sin(2⋅t) - ─────────────⎟⎥\n",
       "     5               5       ⎠ ⎝   2     2                           2      ⎠⎥\n",
       "                                                                             ⎥\n",
       "                                t         ⎞                                  ⎥\n",
       "5⋅c₀   c₁       t            7⋅ℯ ⋅cos(2⋅t)⎟  -t                              ⎥\n",
       "──── + ── - 10⋅ℯ ⋅sin(2⋅t) - ─────────────⎟⋅ℯ  ⋅sin(2⋅t)                     ⎥\n",
       " 2     2                           2      ⎠                                  ⎦"
      ]
     },
     "execution_count": 12,
     "metadata": {},
     "output_type": "execute_result"
    }
   ],
   "source": [
    "ans2 = P * J * (sym.Integral(JI2 * P.inv() * b, t).doit() +  P.inv() * cv)\n",
    "ans2"
   ]
  },
  {
   "cell_type": "code",
   "execution_count": 13,
   "id": "e7afdaaa",
   "metadata": {},
   "outputs": [
    {
     "data": {
      "text/latex": [
       "$\\displaystyle \\left[\\begin{matrix}\\frac{c_{0} e^{- t} \\sin{\\left(2 t \\right)}}{2} + c_{0} e^{- t} \\cos{\\left(2 t \\right)} - \\frac{c_{1} e^{- t} \\sin{\\left(2 t \\right)}}{2} + \\frac{17}{5}\\\\\\frac{5 c_{0} e^{- t} \\sin{\\left(2 t \\right)}}{2} - \\frac{c_{1} e^{- t} \\sin{\\left(2 t \\right)}}{2} + c_{1} e^{- t} \\cos{\\left(2 t \\right)} + 10\\end{matrix}\\right]$"
      ],
      "text/plain": [
       "⎡     -t                                  -t               ⎤\n",
       "⎢ c₀⋅ℯ  ⋅sin(2⋅t)       -t            c₁⋅ℯ  ⋅sin(2⋅t)   17 ⎥\n",
       "⎢ ─────────────── + c₀⋅ℯ  ⋅cos(2⋅t) - ─────────────── + ── ⎥\n",
       "⎢        2                                   2          5  ⎥\n",
       "⎢                                                          ⎥\n",
       "⎢      -t                -t                                ⎥\n",
       "⎢5⋅c₀⋅ℯ  ⋅sin(2⋅t)   c₁⋅ℯ  ⋅sin(2⋅t)       -t              ⎥\n",
       "⎢───────────────── - ─────────────── + c₁⋅ℯ  ⋅cos(2⋅t) + 10⎥\n",
       "⎣        2                  2                              ⎦"
      ]
     },
     "execution_count": 13,
     "metadata": {},
     "output_type": "execute_result"
    }
   ],
   "source": [
    "sym.trigsimp(ans2)"
   ]
  },
  {
   "cell_type": "code",
   "execution_count": null,
   "id": "44d33d57",
   "metadata": {},
   "outputs": [],
   "source": []
  }
 ],
 "metadata": {
  "kernelspec": {
   "display_name": "Python 3 (ipykernel)",
   "language": "python",
   "name": "python3"
  },
  "language_info": {
   "codemirror_mode": {
    "name": "ipython",
    "version": 3
   },
   "file_extension": ".py",
   "mimetype": "text/x-python",
   "name": "python",
   "nbconvert_exporter": "python",
   "pygments_lexer": "ipython3",
   "version": "3.8.11"
  }
 },
 "nbformat": 4,
 "nbformat_minor": 5
}
